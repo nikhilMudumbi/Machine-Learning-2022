{
  "cells": [
    {
      "cell_type": "markdown",
      "metadata": {
        "id": "view-in-github",
        "colab_type": "text"
      },
      "source": [
        "<a href=\"https://colab.research.google.com/github/nrush23/Machine-Learning-2022/blob/main/Kouh_Example.ipynb\" target=\"_parent\"><img src=\"https://colab.research.google.com/assets/colab-badge.svg\" alt=\"Open In Colab\"/></a>"
      ]
    },
    {
      "cell_type": "markdown",
      "metadata": {
        "id": "X38L6tanrnrB"
      },
      "source": [
        "# Pose Detection with OpenPose\n",
        "\n",
        "This notebook uses an open source project [CMU-Perceptual-Computing-Lab/openpose](https://github.com/CMU-Perceptual-Computing-Lab/openpose.git) to detect/track multi person poses on a given youtube video.\n",
        "\n",
        "For other deep-learning Colab notebooks, visit [tugstugi/dl-colab-notebooks](https://github.com/tugstugi/dl-colab-notebooks).\n",
        "\n",
        "\n",
        "## Install OpenPose"
      ]
    },
    {
      "cell_type": "code",
      "execution_count": null,
      "metadata": {
        "id": "FOdkDhb6ga6N"
      },
      "outputs": [],
      "source": [
        "import os\n",
        "from os.path import exists, join, basename, splitext\n",
        "\n",
        "git_repo_url = 'https://github.com/CMU-Perceptual-Computing-Lab/openpose.git'\n",
        "project_name = splitext(basename(git_repo_url))[0]\n",
        "if not exists(project_name):\n",
        "  # see: https://github.com/CMU-Perceptual-Computing-Lab/openpose/issues/949\n",
        "  # install new CMake becaue of CUDA10\n",
        "  !wget -q https://cmake.org/files/v3.13/cmake-3.13.0-Linux-x86_64.tar.gz\n",
        "  !tar xfz cmake-3.13.0-Linux-x86_64.tar.gz --strip-components=1 -C /usr/local\n",
        "  # clone openpose\n",
        "  !git clone -q --depth 1 $git_repo_url\n",
        "  !sed -i 's/execute_process(COMMAND git checkout master WORKING_DIRECTORY ${CMAKE_SOURCE_DIR}\\/3rdparty\\/caffe)/execute_process(COMMAND git checkout f019d0dfe86f49d1140961f8c7dec22130c83154 WORKING_DIRECTORY ${CMAKE_SOURCE_DIR}\\/3rdparty\\/caffe)/g' openpose/CMakeLists.txt\n",
        "  # install system dependencies\n",
        "  !apt-get -qq install -y libatlas-base-dev libprotobuf-dev libleveldb-dev libsnappy-dev libhdf5-serial-dev protobuf-compiler libgflags-dev libgoogle-glog-dev liblmdb-dev opencl-headers ocl-icd-opencl-dev libviennacl-dev\n",
        "  # install python dependencies\n",
        "  #!pip install -q youtube-dl\n",
        "  # build openpose\n",
        "  !cd openpose && rm -rf build || true && mkdir build && cd build && cmake .. && make -j`nproc`\n",
        "  \n",
        "from IPython.display import YouTubeVideo"
      ]
    },
    {
      "cell_type": "markdown",
      "metadata": {
        "id": "n5L3Z5YVrZ2R"
      },
      "source": [
        "## Detect poses on a test video\n",
        "\n",
        "We are going to detect poses on the following youtube video:"
      ]
    },
    {
      "cell_type": "markdown",
      "metadata": {
        "id": "Kn08K-3bp-W9"
      },
      "source": [
        "Download the above youtube video, cut the first 5 seconds and do the pose detection on that 5 seconds:"
      ]
    },
    {
      "cell_type": "code",
      "execution_count": null,
      "metadata": {
        "id": "oNASdyyiO65I"
      },
      "outputs": [],
      "source": [
        "#!rm -rf youtube.mp4\n",
        "# download the youtube with the given ID\n",
        "#!youtube-dl -f 'bestvideo[ext=mp4]' --output \"youtube.%(ext)s\" https://www.youtube.com/watch?v=$YOUTUBE_ID\n",
        "# cut the first 5 seconds\n",
        "#!ffmpeg -y -loglevel info -i youtube.mp4 -t 5 video.mp4\n",
        "# detect poses on the these 5 seconds\n",
        "!rm openpose.avi\n",
        "!cd openpose && ./build/examples/openpose/openpose.bin --video ../video6.mp4 --write_json ./output/ --display 0  --write_video ../openpose.avi\n",
        "# convert the result into MP4\n",
        "!ffmpeg -y -loglevel info -i openpose.avi output.mp4"
      ]
    },
    {
      "cell_type": "code",
      "execution_count": null,
      "metadata": {
        "id": "zz-Jp5ZFv0Eu"
      },
      "outputs": [],
      "source": [
        "#I use these commands to zip and download the openpose output after it\n",
        "#processes my videos\n",
        "!zip -r /content/file.zip /content/openpose/output\n",
        "from google.colab import files\n",
        "files.download(\"/content/file.zip\")"
      ]
    },
    {
      "cell_type": "code",
      "source": [
        "import os\n",
        "from os.path import exists, join, basename, splitext\n",
        "\n",
        "#function to delete files in my output folder after I finish running them\n",
        "def deleteFiles():\n",
        "  rawFiles = os.listdir('/content/openpose/output')\n",
        "  for file in rawFiles:\n",
        "    os.remove('/content/openpose/output/' + file)\n",
        "\n",
        "def deleteFiles2(path):\n",
        "  rawFiles = os.listdir('/content/testFolder')\n",
        "  for file in rawFiles:\n",
        "    os.remove(path + '/' + file)\n",
        "\n",
        "deleteFiles2('/content/testFolder')"
      ],
      "metadata": {
        "id": "6oz9MP_2Wmq1"
      },
      "execution_count": null,
      "outputs": []
    },
    {
      "cell_type": "code",
      "source": [
        "#I unzip my openpose files because I didn't set up a pathway to my google drive\n",
        "!unzip /content/output.zip -d /content/"
      ],
      "metadata": {
        "id": "TQvVu99p0c6K"
      },
      "execution_count": null,
      "outputs": []
    },
    {
      "cell_type": "markdown",
      "source": [
        "<h1>Here are my functions after I've worked on them for a while. The original ones I started with are below these 2 cells</h1>"
      ],
      "metadata": {
        "id": "r90AKMc77m7u"
      }
    },
    {
      "cell_type": "code",
      "source": [
        "import os\n",
        "from os.path import exists, join, basename, splitext\n",
        "import json\n",
        "import matplotlib.pyplot as plt\n",
        "\n",
        "data = [];\n",
        "\n",
        "#this is my default output path because I unzip my raw jsons.\n",
        "#Takes all the jsons and puts them into one data array to be\n",
        "#accessed in getCoord()\n",
        "def sortFiles():\n",
        "  rawFiles = os.listdir('/content/OpenPose Sample Output')\n",
        "  rawFiles.sort()\n",
        "  for file in rawFiles:\n",
        "    openFile = open('/content/OpenPose Sample Output/' + file)\n",
        "    data.append(json.load(openFile))\n",
        "    openFile.close()\n",
        "\n",
        "def sortFiles2(fileName):\n",
        "  rawFiles = os.listdir('/content/OpenPose Sample Output')\n",
        "  rawFiles.sort()\n",
        "  for file in rawFiles:\n",
        "    if fileName in file:\n",
        "      openFile = open('/content/OpenPose Sample Output/' + file)\n",
        "      temp = json.load(openFile)\n",
        "      if len(temp['people']) == 0:\n",
        "        temp = {'version': 1.3, 'people':[{'person_id': [-1], 'pose_keypoints_2d':[0]*75}]}\n",
        "      data.append(temp)\n",
        "      # data.append(json.load(openFile))\n",
        "      openFile.close()\n",
        "\n",
        "#the function that actually lets us retrieve our coordinate values\n",
        "#I realized the pattern for accessing a specific keypoint's coordinate is\n",
        "#array position = ((keypoint - 1) * 3) + (0 or 1 depending on if it's x or y)\n",
        "def getCoord(frame, keypoint, coord):\n",
        "  if coord == 'x':\n",
        "    coord = 0\n",
        "  else:\n",
        "    coord = 1\n",
        "  return data[frame]['people'][0]['pose_keypoints_2d'][(keypoint - 1) * 3 + coord]\n",
        "\n",
        "\n",
        "#if you need a specific keypoint array, use this function to get those keypoints.\n",
        "#You specify which frames to start and end at, function is inclusive\n",
        "def getKpArray(frameStart, frameEnd, keypoint):\n",
        "  kp=[];\n",
        "  for frame in range(frameStart, frameEnd + 1):\n",
        "    kp.append(getCoord(frame, keypoint, 'x'))\n",
        "    kp.append(getCoord(frame, keypoint, 'y'))\n",
        "  return kp\n",
        "\n",
        "\n",
        "#gets all the x and y coordinates so that we can make a scatterplot\n",
        "#offsets the x value by 800 per frame so the sticks aren't on top\n",
        "#of eachother. The y is negative because the stick figures were upside down\n",
        "def displayGraph(frameStart, frameEnd):\n",
        "  xCords=[]\n",
        "  yCords=[]\n",
        "  for frame in range(frameStart, frameEnd + 1):\n",
        "    for kp in range(0,26):\n",
        "      xCords.append(getCoord(frame,kp,'x') + frame * 800)\n",
        "      yCords.append(-getCoord(frame,kp,'y'))\n",
        "  plt.scatter(xCords, yCords)\n",
        "  plt.show()\n",
        "  \n",
        "\n",
        "sortFiles2('Ashita2_')\n",
        "  "
      ],
      "metadata": {
        "id": "X3kS3pAss2X1"
      },
      "execution_count": 64,
      "outputs": []
    },
    {
      "cell_type": "code",
      "source": [
        "print(len(data))"
      ],
      "metadata": {
        "id": "JQ15eNzU7-Ft"
      },
      "execution_count": null,
      "outputs": []
    },
    {
      "cell_type": "code",
      "source": [
        "import csv\n",
        "# sortFiles2()\n",
        "def getCSV():\n",
        "  file = open('/content/empty.csv', 'w')\n",
        "  writer = csv.writer(file)\n",
        "  row = ['Frame']\n",
        "  for num in range(1,26):\n",
        "    row.append('x' + str(num))\n",
        "    row.append('y' + str(num))\n",
        "  writer.writerow(row)\n",
        "  for x in range (0, len(data)):\n",
        "    row = [x]\n",
        "    for kp in range (1,26):\n",
        "      row.append(getCoord(x,kp,'x'))\n",
        "      row.append(getCoord(x,kp,'y'))\n",
        "    writer.writerow(row)\n",
        "  file.close()\n",
        "\n",
        "getCSV()\n"
      ],
      "metadata": {
        "id": "UO6mcoFBEc4Y"
      },
      "execution_count": 73,
      "outputs": []
    },
    {
      "cell_type": "code",
      "source": [
        "from google.colab import files\n",
        "sortFiles2('Jai1')\n",
        "getCSV()\n",
        "data.clear()\n",
        "files.download('empty.csv')"
      ],
      "metadata": {
        "id": "cSSIATwP_l9w"
      },
      "execution_count": null,
      "outputs": []
    },
    {
      "cell_type": "code",
      "source": [
        "data.clear()\n",
        "print(data)"
      ],
      "metadata": {
        "id": "z6ckuN73AoUa"
      },
      "execution_count": null,
      "outputs": []
    },
    {
      "cell_type": "code",
      "source": [
        "row = {'version': 1.3, 'people':[{'person_id': [-1], 'pose_keypoints_2d':[0]*50}]}\n",
        "print(row)\n",
        "print(data[0])"
      ],
      "metadata": {
        "id": "cW8EpuvQ6GyE"
      },
      "execution_count": null,
      "outputs": []
    },
    {
      "cell_type": "code",
      "source": [
        "import csv\n",
        "\n",
        "file = open('/content/test.csv', 'w')\n",
        "writer = csv.writer(file)\n",
        "writer.writerow(data)\n",
        "file.close()"
      ],
      "metadata": {
        "id": "P-s61UoZyD1c"
      },
      "execution_count": 31,
      "outputs": []
    },
    {
      "cell_type": "code",
      "source": [
        "kp1 = getKpArray(0,len(data)-1,1)\n",
        "\n",
        "for x in range (0, len(kp1), 2):\n",
        "  print(kp1[x])"
      ],
      "metadata": {
        "id": "crNcbH3QwHbl"
      },
      "execution_count": null,
      "outputs": []
    },
    {
      "cell_type": "code",
      "source": [
        "import os\n",
        "from os.path import exists, join, basename, splitext\n",
        "import json\n",
        "import matplotlib.pyplot as plt\n",
        "\n",
        "data = [];\n",
        "\n",
        "def sortFiles2():\n",
        "  kp = []\n",
        "  rawFiles = os.listdir('/content/ashitaFiles')\n",
        "  rawFiles.sort()\n",
        "  for file in rawFiles:\n",
        "    openFile = open('/content/ashitaFiles/' + file)\n",
        "    data = json.load(openFile)\n",
        "    # print(data['people'][0]['pose_keypoints_2d'][0])\n",
        "      # pair.append(data['people'][0]['pose_keypoints_2d'][((keypoint - 1) * 3)])\n",
        "      # pair.append(data['people'][0]['pose_keypoints_2d'][((keypoint - 1) * 3 + 1)])\n",
        "      # kp.append(pair)\n",
        "    openFile.close()\n",
        "  # return kp\n",
        "\n",
        "\n",
        "# kp1 = sortFiles2()\n",
        "\n",
        "# print(kp1)\n",
        "\n",
        "# sortFiles2()\n",
        "print(data['people'])"
      ],
      "metadata": {
        "id": "ZL-HGQ1dH3gE"
      },
      "execution_count": null,
      "outputs": []
    },
    {
      "cell_type": "code",
      "source": [
        "sortFiles()\n",
        "\n",
        "displayGraph(0,0)\n",
        "\n",
        "print(getCoord(0,1,'x'))"
      ],
      "metadata": {
        "colab": {
          "base_uri": "https://localhost:8080/",
          "height": 282
        },
        "id": "dK-n6NGot5Zu",
        "outputId": "b056b4c3-e77f-42f0-8142-e55757b7b819"
      },
      "execution_count": 42,
      "outputs": [
        {
          "output_type": "display_data",
          "data": {
            "text/plain": [
              "<Figure size 432x288 with 1 Axes>"
            ],
            "image/png": "[encoded data removed]"
          },
          "metadata": {
            "needs_background": "light"
          }
        },
        {
          "output_type": "stream",
          "name": "stdout",
          "text": [
            "1121.97\n"
          ]
        }
      ]
    },
    {
      "cell_type": "code",
      "source": [
        "import matplotlib.pyplot as plt\n",
        "\n",
        "\n",
        "#gets all the x and y coordinates so that we can make a scatterplot\n",
        "#offsets the x value by 800 per frame so the sticks aren't on top\n",
        "#of eachother. The y is negative because the stick figures were upside down\n",
        "def displayGraph(frameStart, frameEnd):\n",
        "  xCords=[]\n",
        "  yCords=[]\n",
        "  for frame in range(frameStart, frameEnd + 1):\n",
        "    for kp in range(0,26):\n",
        "      xCords.append(getCoord(frame,kp,'x') + frame * 800)\n",
        "      yCords.append(-getCoord(frame,kp,'y'))\n",
        "  plt.scatter(xCords, yCords)\n",
        "  plt.show()\n",
        "\n",
        "displayGraph(0,3)\n"
      ],
      "metadata": {
        "colab": {
          "base_uri": "https://localhost:8080/",
          "height": 265
        },
        "id": "b0IpW5vHtm0v",
        "outputId": "33c64224-b371-4514-d3ce-d2dd389cc46e"
      },
      "execution_count": null,
      "outputs": [
        {
          "output_type": "display_data",
          "data": {
            "text/plain": [
              "<Figure size 432x288 with 1 Axes>"
            ],
            "image/png": "[encoded data removed]"
          },
          "metadata": {
            "needs_background": "light"
          }
        }
      ]
    },
    {
      "cell_type": "markdown",
      "source": [
        "<h1>Previous code I was working with </h1>"
      ],
      "metadata": {
        "id": "fsTFhULMFuKx"
      }
    },
    {
      "cell_type": "code",
      "execution_count": null,
      "metadata": {
        "id": "aNDvKEVowpcE"
      },
      "outputs": [],
      "source": [
        "import os\n",
        "from os.path import exists, join, basename, splitext\n",
        "import json \n",
        "\n",
        "\n",
        "#in future someone can research into making 2d array for python\n",
        "#or focus on using that getCoord() function\n",
        "kp1=[];\n",
        "kp2=[];\n",
        "kp3=[];\n",
        "kp4=[];\n",
        "kp5=[];\n",
        "kp6=[];\n",
        "kp7=[];\n",
        "kp8=[];\n",
        "kp9=[];\n",
        "kp10=[];\n",
        "kp11=[];\n",
        "kp12=[];\n",
        "kp13=[];\n",
        "kp14=[];\n",
        "kp15=[];\n",
        "kp16=[];\n",
        "kp17=[];\n",
        "kp18=[];\n",
        "kp19=[];\n",
        "kp20=[];\n",
        "kp21=[];\n",
        "kp22=[];\n",
        "kp23=[];\n",
        "kp24=[];\n",
        "allKps=[kp1,kp2,kp3,kp4,kp5,kp6,kp7,kp8,kp9,kp10,kp11,kp12,kp13,kp14,kp15,kp16,kp17,kp18,kp19,kp20,kp21,kp22,kp23,kp24]\n",
        "\n",
        "data = [];\n",
        "\n",
        "#for future work, we could retrieve coordinates on the fly like this\n",
        "#rather than filter them into individual arrays\n",
        "def getCoordWIP(frame, keypoint, coord):\n",
        "  return data['people'][0]['pose_keypoints_2d'][frame][keypoint][coord]\n",
        "\n",
        "\n",
        "#original file sort function that got the data from the jsons\n",
        "def sortFilesOg():\n",
        "  rawFiles = os.listdir('/content/content/openpose/output')\n",
        "  rawFiles.sort()\n",
        "  for file in rawFiles:\n",
        "    openFile = open('/content/output/content/openpose/output/' + file)\n",
        "    rawData = json.load(openFile)\n",
        "    data.append(rawData['people'][0]['pose_keypoints_2d'])\n",
        "    openFile.close()\n",
        "\n",
        "#function that cycles through a list of files and adds their key points to the individual key point arrays\n",
        "def setKp(data):\n",
        "    for frame in range(0, len(data)):\n",
        "      position = 0\n",
        "      for kp in allKps:\n",
        "        kp.append(data[frame][position:position + 2])\n",
        "        position += 3\n",
        "\n",
        "\n",
        "\n"
      ]
    },
    {
      "cell_type": "code",
      "execution_count": null,
      "metadata": {
        "id": "wqGAperBgcMc",
        "colab": {
          "base_uri": "https://localhost:8080/",
          "height": 265
        },
        "outputId": "b9cc869b-1e51-42d2-bafd-b7edd04f4134"
      },
      "outputs": [
        {
          "output_type": "display_data",
          "data": {
            "text/plain": [
              "<Figure size 432x288 with 1 Axes>"
            ],
            "image/png": "[encoded data removed]"
          },
          "metadata": {
            "needs_background": "light"
          }
        }
      ],
      "source": [
        "import matplotlib.pyplot as plt\n",
        "\n",
        "\n",
        "#displays the points from the 0th frame to the one you specify\n",
        "\n",
        "def displayGraphOg(frames):\n",
        "  xCords=[];\n",
        "  yCords=[];  \n",
        "  for frame in range(0, frames):\n",
        "    for kp in allKps:\n",
        "      xCords.append(kp[frame][0] + frame * 800)\n",
        "      yCords.append(kp[frame][1])\n",
        "  plt.scatter(xCords, yCords)\n",
        "  plt.show()\n",
        "\n",
        "displayGraphOg(3)\n"
      ]
    },
    {
      "cell_type": "code",
      "source": [
        "displayGraph(100)"
      ],
      "metadata": {
        "colab": {
          "base_uri": "https://localhost:8080/",
          "height": 265
        },
        "id": "GqVa0NNxHlqh",
        "outputId": "e62baf60-2fe4-4827-db53-32c22728488e"
      },
      "execution_count": null,
      "outputs": [
        {
          "output_type": "display_data",
          "data": {
            "text/plain": [
              "<Figure size 432x288 with 1 Axes>"
            ],
            "image/png": "[encoded data removed]"
          },
          "metadata": {
            "needs_background": "light"
          }
        }
      ]
    },
    {
      "cell_type": "markdown",
      "metadata": {
        "id": "kDDkgCCSrFTv"
      },
      "source": [
        "Finally, visualize the result:"
      ]
    },
    {
      "cell_type": "code",
      "execution_count": null,
      "metadata": {
        "id": "nZ3Ud9zLgOoQ"
      },
      "outputs": [],
      "source": [
        "def show_local_mp4_video(file_name, width=640, height=480):\n",
        "  import io\n",
        "  import base64\n",
        "  from IPython.display import HTML\n",
        "  video_encoded = base64.b64encode(io.open(file_name, 'rb').read())\n",
        "  return HTML(data='''<video width=\"{0}\" height=\"{1}\" alt=\"test\" controls>\n",
        "                        <source src=\"data:video/mp4;base64,{2}\" type=\"video/mp4\" />\n",
        "                      </video>'''.format(width, height, video_encoded.decode('ascii')))\n",
        "\n",
        "show_local_mp4_video('output.mp4', width=960, height=720)"
      ]
    }
  ],
  "metadata": {
    "colab": {
      "collapsed_sections": [],
      "name": "Kouh Example.ipynb",
      "provenance": [],
      "include_colab_link": true
    },
    "kernelspec": {
      "display_name": "Python 3",
      "name": "python3"
    },
    "gpuClass": "standard"
  },
  "nbformat": 4,
  "nbformat_minor": 0
}